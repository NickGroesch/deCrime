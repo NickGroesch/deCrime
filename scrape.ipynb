{
 "cells": [
  {
   "cell_type": "code",
   "execution_count": 18,
   "metadata": {},
   "outputs": [],
   "source": [
    "import time\n",
    "from splinter import Browser\n",
    "from splinter.exceptions import ElementDoesNotExist\n",
    "from webdriver_manager.chrome import ChromeDriverManager\n",
    "from bs4 import BeautifulSoup"
   ]
  },
  {
   "cell_type": "code",
   "execution_count": 19,
   "metadata": {},
   "outputs": [
    {
     "name": "stdout",
     "output_type": "stream",
     "text": [
      "/usr/local/bin/chromedriver\r\n"
     ]
    }
   ],
   "source": [
    "# https://splinter.readthedocs.io/en/latest/drivers/chrome.html\n",
    "!which chromedriver"
   ]
  },
  {
   "cell_type": "code",
   "execution_count": 20,
   "metadata": {},
   "outputs": [
    {
     "name": "stderr",
     "output_type": "stream",
     "text": [
      "[WDM] - ====== WebDriver manager ======\n",
      "[WDM] - Current google-chrome version is 89.0.4389\n",
      "[WDM] - Get LATEST driver version for 89.0.4389\n"
     ]
    },
    {
     "name": "stdout",
     "output_type": "stream",
     "text": [
      "\n",
      "\n"
     ]
    },
    {
     "name": "stderr",
     "output_type": "stream",
     "text": [
      "[WDM] - Driver [/Users/nick/.wdm/drivers/chromedriver/mac64/89.0.4389.23/chromedriver] found in cache\n"
     ]
    }
   ],
   "source": [
    "executable_path = {'executable_path': ChromeDriverManager().install()}\n",
    "browser = Browser('chrome', **executable_path, headless=False)"
   ]
  },
  {
   "cell_type": "code",
   "execution_count": 41,
   "metadata": {},
   "outputs": [],
   "source": [
    "url = 'http://www.dpdconnect.com/dailybulletin.aspx'\n",
    "browser.visit(url)"
   ]
  },
  {
   "cell_type": "code",
   "execution_count": 42,
   "metadata": {},
   "outputs": [
    {
     "name": "stdout",
     "output_type": "stream",
     "text": [
      "AL\n"
     ]
    }
   ],
   "source": [
    "html = browser.html\n",
    "soup = BeautifulSoup(html, 'html.parser')\n",
    "\n",
    "#mainTable = soup.find('div', id='gbox_tblDB')\n",
    "#listTable= soup.find('div', id=\"tblDB\")\n",
    "dateField = browser.find_by_id(\"mainContent_txtDate2\")\n",
    "dateSubmit = browser.find_by_id(\"mainContent_lbUpdate\")\n",
    "limit_selector = browser.find_by_css(\"#pager_center select\")\n",
    "type_selector = browser.find_by_id(\"mainContent_ddlType2\")\n",
    "print(type_selector.value)\n",
    "\n"
   ]
  },
  {
   "cell_type": "code",
   "execution_count": 43,
   "metadata": {},
   "outputs": [],
   "source": [
    "def nap(cat=.150):\n",
    "    time.sleep(cat)\n"
   ]
  },
  {
   "cell_type": "code",
   "execution_count": 44,
   "metadata": {},
   "outputs": [],
   "source": [
    "def rebaseHtml():\n",
    "    nap()\n",
    "    html = browser.html\n",
    "    soup = BeautifulSoup(html, 'html.parser')\n",
    "\n",
    "    mainTable = soup.find('div', id='gbox_tblDB')\n",
    "    listTable= soup.find('div', id=\"tblDB\")\n",
    "    dateField = browser.find_by_id(\"mainContent_txtDate2\")\n",
    "    dateSubmit = browser.find_by_id(\"mainContent_lbUpdate\")\n",
    "    limit_selector = browser.find_by_css(\"#pager_center select\")\n",
    "    #limit_selector.select(5)\n",
    "    limit_selector.select(10000)\n",
    "    nap()\n",
    "    limit_selector.click()\n",
    "    type_selector = browser.find_by_id(\"mainContent_ddlType2\")\n",
    "    type_selector.select(\"AL\")\n",
    "    nap()\n"
   ]
  },
  {
   "cell_type": "code",
   "execution_count": 45,
   "metadata": {},
   "outputs": [],
   "source": [
    "def changeDate(date):\n",
    "    dateField = browser.find_by_id(\"mainContent_txtDate2\")\n",
    "    dateSubmit = browser.find_by_id(\"mainContent_lbUpdate\")\n",
    "    dateNow=dateField.value\n",
    "    print(f'{dateNow}=>{date}')\n",
    "    dateField.fill(date)\n",
    "    dateSubmit.click()\n",
    "    rebaseHtml()"
   ]
  },
  {
   "cell_type": "code",
   "execution_count": 17,
   "metadata": {},
   "outputs": [
    {
     "ename": "SyntaxError",
     "evalue": "unexpected EOF while parsing (<ipython-input-17-772796f00e11>, line 2)",
     "output_type": "error",
     "traceback": [
      "\u001b[0;36m  File \u001b[0;32m\"<ipython-input-17-772796f00e11>\"\u001b[0;36m, line \u001b[0;32m2\u001b[0m\n\u001b[0;31m    \u001b[0m\n\u001b[0m    ^\u001b[0m\n\u001b[0;31mSyntaxError\u001b[0m\u001b[0;31m:\u001b[0m unexpected EOF while parsing\n"
     ]
    }
   ],
   "source": [
    "def scrapeAllIncidents():\n",
    "    \n"
   ]
  },
  {
   "cell_type": "code",
   "execution_count": 46,
   "metadata": {},
   "outputs": [
    {
     "name": "stdout",
     "output_type": "stream",
     "text": [
      "3/28/2021=>6/6/2015\n"
     ]
    }
   ],
   "source": [
    "changeDate('6/6/2015')"
   ]
  },
  {
   "cell_type": "code",
   "execution_count": 47,
   "metadata": {},
   "outputs": [
    {
     "name": "stdout",
     "output_type": "stream",
     "text": [
      "6/6/2015=>12/25/2015\n"
     ]
    }
   ],
   "source": [
    "changeDate('12/25/2015')"
   ]
  },
  {
   "cell_type": "code",
   "execution_count": null,
   "metadata": {},
   "outputs": [],
   "source": []
  }
 ],
 "metadata": {
  "kernelspec": {
   "display_name": "Python 3",
   "language": "python",
   "name": "python3"
  },
  "language_info": {
   "codemirror_mode": {
    "name": "ipython",
    "version": 3
   },
   "file_extension": ".py",
   "mimetype": "text/x-python",
   "name": "python",
   "nbconvert_exporter": "python",
   "pygments_lexer": "ipython3",
   "version": "3.7.2"
  }
 },
 "nbformat": 4,
 "nbformat_minor": 2
}
