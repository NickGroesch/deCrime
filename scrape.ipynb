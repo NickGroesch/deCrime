{
 "cells": [
  {
   "cell_type": "code",
   "execution_count": 9,
   "metadata": {},
   "outputs": [],
   "source": [
    "import time\n",
    "from splinter import Browser\n",
    "from splinter.exceptions import ElementDoesNotExist\n",
    "from webdriver_manager.chrome import ChromeDriverManager\n",
    "from bs4 import BeautifulSoup\n",
    "from datetime import date\n",
    "from datetime import timedelta"
   ]
  },
  {
   "cell_type": "code",
   "execution_count": 10,
   "metadata": {},
   "outputs": [],
   "source": [
    "import pymongo\n",
    "#print(pymongo)\n",
    "# Create the client\n",
    "client = pymongo.MongoClient('localhost', 27017)\n",
    "\n",
    "# Connect to our database\n",
    "db = client['deCrime']\n",
    "\n",
    "# Fetch our series collection\n",
    "scrapes = db['scrapes']"
   ]
  },
  {
   "cell_type": "code",
   "execution_count": 11,
   "metadata": {},
   "outputs": [
    {
     "name": "stdout",
     "output_type": "stream",
     "text": [
      "/usr/local/bin/chromedriver\r\n"
     ]
    }
   ],
   "source": [
    "# https://splinter.readthedocs.io/en/latest/drivers/chrome.html\n",
    "!which chromedriver"
   ]
  },
  {
   "cell_type": "code",
   "execution_count": 12,
   "metadata": {},
   "outputs": [
    {
     "name": "stderr",
     "output_type": "stream",
     "text": [
      "[WDM] - ====== WebDriver manager ======\n",
      "[WDM] - Current google-chrome version is 89.0.4389\n",
      "[WDM] - Get LATEST driver version for 89.0.4389\n"
     ]
    },
    {
     "name": "stdout",
     "output_type": "stream",
     "text": [
      "\n",
      "\n"
     ]
    },
    {
     "name": "stderr",
     "output_type": "stream",
     "text": [
      "[WDM] - Driver [/Users/nick/.wdm/drivers/chromedriver/mac64/89.0.4389.23/chromedriver] found in cache\n"
     ]
    }
   ],
   "source": [
    "executable_path = {'executable_path': ChromeDriverManager().install()}\n",
    "browser = Browser('chrome', **executable_path, headless=False)"
   ]
  },
  {
   "cell_type": "code",
   "execution_count": 13,
   "metadata": {},
   "outputs": [],
   "source": [
    "url = 'http://www.dpdconnect.com/dailybulletin.aspx'\n",
    "browser.visit(url)"
   ]
  },
  {
   "cell_type": "code",
   "execution_count": 14,
   "metadata": {},
   "outputs": [
    {
     "name": "stdout",
     "output_type": "stream",
     "text": [
      "AL\n"
     ]
    }
   ],
   "source": [
    "html = browser.html\n",
    "soup = BeautifulSoup(html, 'html.parser')\n",
    "\n",
    "mainTable = soup.find('div', id='gbox_tblDB')\n",
    "listTable= soup.find('table', id=\"tblDB\")\n",
    "dateField = browser.find_by_id(\"mainContent_txtDate2\")\n",
    "dateSubmit = browser.find_by_id(\"mainContent_lbUpdate\")\n",
    "limitSelector = browser.find_by_css(\"#pager_center select\")\n",
    "typeSelector = browser.find_by_id(\"mainContent_ddlType2\")\n",
    "print(typeSelector.value)\n",
    "\n"
   ]
  },
  {
   "cell_type": "code",
   "execution_count": 15,
   "metadata": {},
   "outputs": [],
   "source": [
    "def nap(cat=.150):\n",
    "    time.sleep(cat)\n"
   ]
  },
  {
   "cell_type": "code",
   "execution_count": 16,
   "metadata": {},
   "outputs": [],
   "source": [
    "def rebaseHtml():\n",
    "    nap()\n",
    "    html = browser.html\n",
    "    soup = BeautifulSoup(html, 'html.parser')\n",
    "\n",
    "    mainTable = soup.find('div', id='gbox_tblDB')\n",
    "    listTable = soup.find('table', id=\"tblDB\")\n",
    "    dateField = browser.find_by_id(\"mainContent_txtDate2\")\n",
    "    dateSubmit = browser.find_by_id(\"mainContent_lbUpdate\")\n",
    "    limitSelector = browser.find_by_css(\"#pager_center select\")\n",
    "    #limit_selector.select(5)\n",
    "    limitSelector.select(10000)\n",
    "    nap()\n",
    "    limitSelector.click()\n",
    "    typeSelector = browser.find_by_id(\"mainContent_ddlType2\")\n",
    "    typeSelector.select(\"AL\")\n",
    "    nap()\n"
   ]
  },
  {
   "cell_type": "code",
   "execution_count": 17,
   "metadata": {},
   "outputs": [],
   "source": [
    "def changeDate(date):\n",
    "    dateField = browser.find_by_id(\"mainContent_txtDate2\")\n",
    "    dateSubmit = browser.find_by_id(\"mainContent_lbUpdate\")\n",
    "    dateNow=dateField.value\n",
    "    print(f'{dateNow}=>{date}')\n",
    "    dateField.fill(date)\n",
    "    dateSubmit.click()\n",
    "    rebaseHtml()"
   ]
  },
  {
   "cell_type": "code",
   "execution_count": 18,
   "metadata": {},
   "outputs": [],
   "source": [
    "def scrapeAllIncidents():\n",
    "    html = browser.html\n",
    "    soup = BeautifulSoup(html, 'html.parser')\n",
    "\n",
    "    mainTable = soup.find('div', id='gbox_tblDB')\n",
    "    listTable = soup.find('table', id=\"tblDB\")\n",
    "    listIncidents = listTable.find_all('tr')\n",
    "    print(len(listIncidents))\n",
    "    print(listIncidents[0])\n",
    "    for incident in listIncidents:\n",
    "        caseType = incident['id'].split(\"<br>\")[0].split(\"  \")[0]        \n",
    "        caseNum = incident['id'].split(\"<br>\")[0].split(\"  \")[1]\n",
    "        print(incident.find_all('td')[3]['title'])#Charge\n",
    "\n",
    "        print(incident.find_all('td')[1]['title'].split(\"(\")[1].split(\")\")[0])#Race/Sex/Age tuple from longDe\n",
    "        #print(incident.find_all('td')[4]['title'])#Last\n",
    "        #print(incident.find_all('td')[5]['title'])#First\n",
    "        #print(incident.find_all('td')[6]['title'])#Middle\n",
    "        print(incident.find_all('td')[7]['title'])#Race\n",
    "        print(incident.find_all('td')[8]['title'])#Sex\n",
    "        print(incident.find_all('td')[9]['title'])#Desc\n",
    "        print(incident.find_all('td')[10]['title'])#Address\n",
    "\n",
    "        \n",
    "    "
   ]
  },
  {
   "cell_type": "code",
   "execution_count": 19,
   "metadata": {},
   "outputs": [
    {
     "name": "stdout",
     "output_type": "stream",
     "text": [
      "3/28/2021=>6/6/2015\n"
     ]
    }
   ],
   "source": [
    "changeDate('6/6/2015')"
   ]
  },
  {
   "cell_type": "code",
   "execution_count": 20,
   "metadata": {
    "scrolled": true
   },
   "outputs": [
    {
     "name": "stdout",
     "output_type": "stream",
     "text": [
      "6/6/2015=>12/25/2015\n",
      "27\n",
      "<tr class=\"ui-widget-content jqgrow ui-row-ltr\" id=\"AR  15014207&lt;br&gt;&lt;I&gt;1) Domestic Battery (m)...&lt;/I&gt;\" role=\"row\"><td role=\"gridcell\" style=\"width: 180px;\" title=\"AR  150142071) Domestic Battery (m)...\">AR  15014207<br/><i>1) Domestic Battery (m)...</i></td><td role=\"gridcell\" style=\"width: 432px;\" title=\"Bond, Kiedren J (B /M/32) Arrest on chrg of 1) Domestic Battery (M) and 2) Contempt Of Court (F), at 525 W Macon St, Decatur, IL,  on 12/25/2015 09:40.\">Bond, Kiedren J (B /M/32) Arrest on chrg of 1) Domestic Battery (M) and 2) Contempt Of Court (F), at 525 W Macon St, Decatur, IL,  on 12/25/2015 09:40.</td><td role=\"gridcell\" style=\"width: 108px;\" title=\"Sturdivant, L A\">Sturdivant, L A</td><td role=\"gridcell\" style=\"display:none;width: 150px;\" title=\"1) Domestic Battery (M) and 2) Contempt Of Court (F),\">1) Domestic Battery (M) and 2) Contempt Of Court (F),</td><td role=\"gridcell\" style=\"display:none;width: 150px;\" title=\"Bond\">Bond</td><td role=\"gridcell\" style=\"display:none;width: 150px;\" title=\"Kiedren\">Kiedren</td><td role=\"gridcell\" style=\"display:none;width: 150px;\" title=\"J\">J</td><td role=\"gridcell\" style=\"display:none;width: 150px;\" title=\"Black\">Black</td><td role=\"gridcell\" style=\"display:none;width: 150px;\" title=\"Male\">Male</td><td role=\"gridcell\" style=\"display:none;width: 150px;\" title=\" Arrest on chrg of 1) Domestic Battery (M) and 2) Contempt Of Court (F),\"> Arrest on chrg of 1) Domestic Battery (M) and 2) Contempt Of Court (F),</td><td role=\"gridcell\" style=\"display:none;width: 150px;\" title=\" at 525 W Macon St, Decatur, IL, \"> at 525 W Macon St, Decatur, IL, </td><td role=\"gridcell\" style=\"display:none;width: 150px;\" title=\"\"> </td></tr>\n",
      "1) Domestic Battery (M) and 2) Contempt Of Court (F),\n",
      "B /M/32\n",
      "Black\n",
      "Male\n",
      " Arrest on chrg of 1) Domestic Battery (M) and 2) Contempt Of Court (F),\n",
      " at 525 W Macon St, Decatur, IL, \n",
      "Theft Under $500, M (M),\n",
      "B /F/19\n",
      "Black\n",
      "Female\n",
      " Arrest on chrg of Theft Under $500, M (M),\n",
      " at 654 W Decatur St, Decatur, IL, \n",
      "1) Disorderly Conduct (all Other) (M) and 2) Harassing And Obscene Communications (M),\n",
      "W /M/19\n",
      "White\n",
      "Male\n",
      " Arrest on chrg of 1) Disorderly Conduct (all Other) (M) and 2) Harassing And Obscene Communications (M),\n",
      " at 325 Manchester Ct, Decatur, IL, \n",
      "1) Traf Agg Dui (F), 2) Traf Driving Under The Influence (M), 3) Traf Driving Under The Influence Bac > .08 (M), 4) Traf Suspended/revoked Drivers License (M), and 5) Traf Driving Without Lights When Required (M),\n",
      "W /M/23\n",
      "White\n",
      "Male\n",
      " Arrest on chrg of 1) Traf Agg Dui (F), 2) Traf Driving Under The Influence (M), 3) Traf Driving Under The Influence Bac > .08 (M), 4) Traf Suspended/revoked Drivers License (M), and 5) Traf Driving Without Lights When Required (M),\n",
      " at Southland Dr/s Busn Route 51, Decatur, IL, \n",
      "Domestic Battery, M (M),\n",
      "B /M/50\n",
      "Black\n",
      "Male\n",
      " Arrest on chrg of Domestic Battery, M (M),\n",
      " at 1525 N Edward St, Decatur, IL, \n",
      "1) Agg Battery (F), 2) Agg Battery (F), 3) Domestic Battery (F), 4) Home Invasion (F), 5) Theft Under $500 (M), 6) Kidnapping (F), 7) Unlawful Restraint (F), and 8) Interfering With Reporting Of Domestic Violence (M),\n",
      "B /M/32\n",
      "Black\n",
      "Male\n",
      " Arrest on chrg of 1) Agg Battery (F), 2) Agg Battery (F), 3) Domestic Battery (F), 4) Home Invasion (F), 5) Theft Under $500 (M), 6) Kidnapping (F), 7) Unlawful Restraint (F), and 8) Interfering With Reporting Of Domestic Violence (M),\n",
      " at 333 S Franklin St, Decatur, IL, \n",
      "Domestic Battery, F (F),\n",
      "B /M/19\n",
      "Black\n",
      "Male\n",
      " Arrest on chrg of Domestic Battery, F (F),\n",
      " at 229 E Garfield Ave, Decatur, IL, \n",
      "Cyberstalking, F (F),\n",
      "W /M/19\n",
      "White\n",
      "Male\n",
      " Arrest on chrg of Cyberstalking, F (F),\n",
      " at 325 Manchester Ct, Decatur, IL, \n",
      "BURGLARY RESIDENTIAL\n",
      "C\n",
      "\n",
      "\n",
      " VICTIM of Burglary Residential (C),\n",
      " at 3700-BLK N Woodford St, Decatur, IL, \n",
      "TRAF AGG DUI\n",
      "C\n",
      "\n",
      "\n",
      " VICTIM of Traf Agg Dui (C),\n",
      " at [Address],  \n",
      "DOMESTIC VIOLENCE\n",
      "C\n",
      "\n",
      "\n",
      " VICTIM of Domestic Violence (C),\n",
      " at [Address],  \n",
      "HOME INVASION\n",
      "A\n",
      "\n",
      "\n",
      " VICTIM of Home Invasion (A),\n",
      " at 700-BLK E Condit St, Decatur, IL, \n",
      "DOMESTIC BATTERY\n",
      "C\n",
      "\n",
      "\n",
      " VICTIM of Domestic Battery (C),\n",
      " at 1500-BLK N Edward St, Decatur, IL, \n",
      "CRIMINAL TRESPASS TO RESIDENCE\n",
      "C\n",
      "\n",
      "\n",
      " VICTIM of Criminal Trespass To Residence (C),\n",
      " at [Address],  \n",
      "BURGLARY\n",
      "C\n",
      "\n",
      "\n",
      " VICTIM of Burglary (C),\n",
      " at 1400-BLK N 22nd St, Decatur, IL, \n",
      "VIOLATION OF ORDER OF PROTECTION\n",
      "C\n",
      "\n",
      "\n",
      " VICTIM of Violation Of Order Of Protection (C),\n",
      " at [Address],  \n",
      "AGG BATTERY\n",
      "C\n",
      "\n",
      "\n",
      " VICTIM of Agg Battery (C),\n",
      " at [Address],  \n",
      "ARMED ROBBERY\n",
      "C\n",
      "\n",
      "\n",
      " VICTIM of Armed Robbery (C),\n",
      " at 200-BLK N 22nd St, Decatur, IL, \n",
      "DOMESTIC BATTERY\n",
      "C\n",
      "\n",
      "\n",
      " VICTIM of Domestic Battery (C),\n",
      " at 200-BLK E Garfield Ave, Decatur, IL, \n",
      "CYBERSTALKING\n",
      "C\n",
      "\n",
      "\n",
      " VICTIM of Cyberstalking (C),\n",
      " at [Address],  \n",
      "INVOLUNTARY ADMISSION\n",
      "C\n",
      "\n",
      "\n",
      " VICTIM of Involuntary Admission (C),\n",
      " at [Address],  \n",
      "BURGLARY RESIDENTIAL\n",
      "C\n",
      "\n",
      "\n",
      " VICTIM of Burglary Residential (C),\n",
      " at 2400-BLK E Eldorado St, Decatur, IL, \n",
      "INVOLUNTARY ADMISSION\n",
      "C\n",
      "\n",
      "\n",
      " VICTIM of Involuntary Admission (C),\n",
      " at [Address],  \n",
      "OUTSIDE AGENCY\n",
      "C\n",
      "\n",
      "\n",
      " VICTIM of Outside Agency (C),\n",
      " at [Address],  \n",
      "TRAF FAILURE TO YIELD AT INTERSECTION\n",
      "B /M/38\n",
      "Black\n",
      "Male\n",
      " Cited on Charge of Traf Failure To Yield At Intersection (15014668),\n",
      " at 3899 E Fulton Ave/s Baltimore Ave, Decatur, IL, \n",
      "TRAF OPERATING UNINSURED MOTOR VEHICLE\n",
      "B /M/34\n",
      "Black\n",
      "Male\n",
      " Cited on Charge of Traf Operating Uninsured Motor Vehicle,\n",
      " at 399 W Grand Ave/n Edward St, Decatur, IL, \n",
      "TRAF SPEEDING OVER STATUTORY LIMIT\n",
      "W /M/22\n",
      "White\n",
      "Male\n",
      " Cited on Charge of Traf Speeding Over Statutory Limit,\n",
      " at 2500 N 22nd St, Decatur, IL, \n"
     ]
    }
   ],
   "source": [
    "changeDate('12/25/2015')\n",
    "nap(.5)\n",
    "scrapeAllIncidents()"
   ]
  },
  {
   "cell_type": "code",
   "execution_count": 21,
   "metadata": {},
   "outputs": [
    {
     "name": "stdout",
     "output_type": "stream",
     "text": [
      "10/09/2012\n"
     ]
    }
   ],
   "source": [
    "#startDate = '10/09/2012' #experimentally determined enough for jazz\n",
    "startDate = date(2012,10,9)\n",
    "print (startDate.strftime(\"%m/%d/%Y\"))"
   ]
  },
  {
   "cell_type": "code",
   "execution_count": 22,
   "metadata": {},
   "outputs": [],
   "source": [
    "def nextDate(dateOb):\n",
    "    return dateOb + timedelta(days=1)"
   ]
  },
  {
   "cell_type": "code",
   "execution_count": 23,
   "metadata": {},
   "outputs": [
    {
     "name": "stdout",
     "output_type": "stream",
     "text": [
      "10/12/2012\n"
     ]
    }
   ],
   "source": [
    "threeDaysLater = nextDate(nextDate(nextDate(startDate)))\n",
    "print (threeDaysLater.strftime(\"%m/%d/%Y\"))"
   ]
  },
  {
   "cell_type": "code",
   "execution_count": 25,
   "metadata": {},
   "outputs": [
    {
     "name": "stdout",
     "output_type": "stream",
     "text": [
      "03/28/2021\n"
     ]
    }
   ],
   "source": [
    "print(date.today().strftime(\"%m/%d/%Y\"))"
   ]
  },
  {
   "cell_type": "code",
   "execution_count": null,
   "metadata": {},
   "outputs": [],
   "source": []
  }
 ],
 "metadata": {
  "kernelspec": {
   "display_name": "Python 3",
   "language": "python",
   "name": "python3"
  },
  "language_info": {
   "codemirror_mode": {
    "name": "ipython",
    "version": 3
   },
   "file_extension": ".py",
   "mimetype": "text/x-python",
   "name": "python",
   "nbconvert_exporter": "python",
   "pygments_lexer": "ipython3",
   "version": "3.7.2"
  }
 },
 "nbformat": 4,
 "nbformat_minor": 2
}
